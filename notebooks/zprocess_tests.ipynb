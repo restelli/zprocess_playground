{
 "cells": [
  {
   "cell_type": "markdown",
   "id": "6ded31d2-96dc-4396-96d3-b3d98e8e0aaa",
   "metadata": {},
   "source": [
    "# Use of zprocess RPC\n",
    "\n",
    "The code below is to test zprocess to run a remote process.\n",
    "\n",
    "- Open a terminal and run the remote server\n",
    "\n",
    "```bash\n",
    "python -m zprocess.remote -tui -p 7341\n",
    "```\n",
    "\n",
    "- Then run the cell below.\n",
    "\n",
    "For instructions about how to run the server with shared secret consult the comments in [processclass_remote_example.py](https://github.com/chrisjbillington/zprocess/blob/master/zprocess/examples/processclass_remote_example.py)\n"
   ]
  },
  {
   "cell_type": "code",
   "execution_count": 30,
   "id": "ddc8af6b-e23c-4b06-a4a1-043a20534224",
   "metadata": {},
   "outputs": [
    {
     "name": "stdout",
     "output_type": "stream",
     "text": [
      "This library must be available at the server side but it is not imported here:\n",
      "           from my_package import TestProcess \n",
      "setting up the connection\n",
      "Running and hello Test\n",
      "hello\n",
      "Collecting protocol version: 1.0.0\n",
      "Sending ramp to remote process that should respond with a parabola.\n"
     ]
    },
    {
     "data": {
      "image/png": "[encoded data removed]",
      "text/plain": [
       "<Figure size 640x480 with 1 Axes>"
      ]
     },
     "metadata": {},
     "output_type": "display_data"
    }
   ],
   "source": [
    "import numpy as np\n",
    "from matplotlib import pyplot as plt\n",
    "%matplotlib inline\n",
    "\n",
    "from zprocess.remote.server import RemoteProcessServer\n",
    "from zprocess.remote import RemoteProcessClient, PROTOCOL_VERSION\n",
    "from zprocess.process_tree import ProcessTree, Process\n",
    "\n",
    "class Test():\n",
    "\n",
    "    def __init__(self,run_server = False, port = None):\n",
    "        self.run_server=run_server\n",
    "        self.port = port\n",
    "    \n",
    "    def setUp(self):\n",
    "        if self.run_server:\n",
    "            # Run the server on a random port on localhost:\n",
    "            self.server = RemoteProcessServer(bind_address='tcp://127.0.0.1', silent=True , port=self.port)\n",
    "            self.port = self.server.port\n",
    "        self.client = RemoteProcessClient(host='localhost', port=self.port) #self.port)\n",
    "        self.process_tree = ProcessTree()\n",
    "    \n",
    "    def tearDown(self):\n",
    "        if self.run_server:\n",
    "            self.server.shutdown()\n",
    "        self.server = None\n",
    "        self.port = None\n",
    "        self.client = None\n",
    "        self.process_tree = None\n",
    "    \n",
    "    def test_hello(self):\n",
    "        result = self.client.say_hello()\n",
    "        print(result)\n",
    "    \n",
    "    def test_protocol(self):\n",
    "        result = self.client.get_protocol()\n",
    "        print(result)\n",
    "    \n",
    "    def test_basic_process(self):\n",
    "        # Remote process created\n",
    "        proc = Process(self.process_tree, remote_process_client=self.client,subclass_fullname='my_package.TestProcess')\n",
    "        to_child, from_child = proc.start()\n",
    "       \n",
    "        # Data generation\n",
    "        input_data = np.linspace(0,50,100)\n",
    "\n",
    "        #Data exchange\n",
    "        to_child.put(input_data)\n",
    "        output_data = from_child.get()\n",
    "\n",
    "        #Do something with data\n",
    "        plt.plot(input_data)\n",
    "        plt.plot(output_data)\n",
    "\n",
    "        del proc\n",
    "\n",
    "\n",
    "print(\"This library must be available at the server side but it is not imported here:\")\n",
    "print(\"           from my_package import TestProcess \")\n",
    "\n",
    "test=Test(run_server = False, port=7341)\n",
    "\n",
    "print(\"setting up the connection\")\n",
    "test.setUp()\n",
    "print(\"Running and hello Test\")\n",
    "test.test_hello()\n",
    "print(\"Collecting protocol version: \",end=\"\")\n",
    "test.test_protocol()\n",
    "print(\"Sending ramp to remote process that should respond with a parabola.\")\n",
    "test.test_basic_process()\n",
    "test.tearDown()"
   ]
  },
  {
   "cell_type": "code",
   "execution_count": null,
   "id": "37edaf3d-a8eb-4bce-a70e-b84e7dc24ffa",
   "metadata": {},
   "outputs": [],
   "source": []
  }
 ],
 "metadata": {
  "kernelspec": {
   "display_name": "Python 3 (ipykernel)",
   "language": "python",
   "name": "python3"
  },
  "language_info": {
   "codemirror_mode": {
    "name": "ipython",
    "version": 3
   },
   "file_extension": ".py",
   "mimetype": "text/x-python",
   "name": "python",
   "nbconvert_exporter": "python",
   "pygments_lexer": "ipython3",
   "version": "3.9.17"
  }
 },
 "nbformat": 4,
 "nbformat_minor": 5
}
